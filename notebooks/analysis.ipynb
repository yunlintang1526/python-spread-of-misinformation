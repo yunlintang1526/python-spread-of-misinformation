{
 "cells": [
  {
   "cell_type": "markdown",
   "metadata": {},
   "source": [
    "# EDA"
   ]
  },
  {
   "cell_type": "markdown",
   "metadata": {},
   "source": [
    "After we get all datasets of tweets about COVID-19, we are going to distinguish the distribution\n",
    "between misinformation and scientific information. We will look up all sampled tweets and find\n",
    "the top 50 most-used hashtags in the whole dataset, and then to find 3 scientific hashtags and 3 \n",
    "hashtag related to misinformation with their numbers of occurrence as function of the date. By\n",
    "researching the change of daily numbers of occurrence of the hashtag, we can compute the lifetime\n",
    "of hashtag as the length of time between the first occurrence of the hashtag and the last occurrence\n",
    "of the hashtag. At last, we will also draw the distribution of posts by per user."
   ]
  },
  {
   "cell_type": "markdown",
   "metadata": {},
   "source": [
    "After running `python run.py data analysis`, you should have several plots and data files in the path `data/report`. In this analysis report, we will show each result of these three taks:\n",
    "- Create a list of the top-50 most-used hashtags in the COVID data set.\n",
    "- Identify (by guessing) 3 conspiracy or misinformation-related hashtags related to COVID, and 3 \"scientific\" hashtags. For each, plot the number of occurrences as a function of the date.\n",
    "- Create a histogram showing the distribution of number of posts per user.\n"
   ]
  },
  {
   "cell_type": "markdown",
   "metadata": {},
   "source": [
    "# Task 1"
   ]
  },
  {
   "cell_type": "markdown",
   "metadata": {},
   "source": [
    "Among all these tweet contents, we extracted the 50 most frequent hashtags in the COVID dataset as shown below:"
   ]
  },
  {
   "cell_type": "code",
   "execution_count": null,
   "metadata": {},
   "outputs": [],
   "source": [
    "import pandas as pd\n",
    "pd.read_csv('../data/report/fifty_frequent_hashtags.csv',header=None)"
   ]
  },
  {
   "cell_type": "markdown",
   "metadata": {},
   "source": [
    "# Task 2"
   ]
  },
  {
   "cell_type": "markdown",
   "metadata": {},
   "source": [
    "After observing more tweet contents and their hashtags, We choose “mask”, “home”, “socialdistancing” as three scientific hashtags, since staying at home, washing hands and wearing masks are the most things we need to do during the outbreak, and we also choose “Trump”, “china” and “wuhanvirus” as the misinformation hashtags since some rumor mongers like to spread misinformation about politics. Then plotting the number of occurrences as a function of the date for each hashtag. From the plots of number of occurrence of each hashtags per day (shown below), the trend of the change of scientific hashtags remains steady, and for misinformation hashtags, it will be hot for a while and it will also fade away after a while. "
   ]
  },
  {
   "cell_type": "markdown",
   "metadata": {},
   "source": [
    "![hashtags_plot_mask.png](../data/report/hashtags_plot_mask.png)\n",
    "![hashtags_plot_wash.png](../data/report/hashtags_plot_socialdistancing.png)\n",
    "![hashtags_plot_home.png](../data/report/hashtags_plot_home.png)\n",
    "![hashtags_plot_trump.png](../data/report/hashtags_plot_trump.png)\n",
    "![hashtags_plot_china.png](../data/report/hashtags_plot_china.png)\n",
    "![hashtags_plot_wuhanvirus.png](../data/report/hashtags_plot_wuhanvirus.png)"
   ]
  },
  {
   "cell_type": "markdown",
   "metadata": {},
   "source": [
    "# Task 3"
   ]
  },
  {
   "cell_type": "markdown",
   "metadata": {},
   "source": [
    "We have extracted all the tweets from March 22nd to Augst 1st (exclusive) and their corresponding user ids. Then we counts number of posts per user and draw the density plot to show its distribution. As shown below, we observed that most of users only post serveral times on the coronavirus topics; however, there are still numbers of users post plenty of twitters such as 200 to 300 times (though it's hard to see on the graph since it is extremely right-skewed)."
   ]
  },
  {
   "cell_type": "markdown",
   "metadata": {},
   "source": [
    "![dist_over_users.png](../data/report/dist_over_users.png)"
   ]
  }
 ],
 "metadata": {
  "kernelspec": {
   "display_name": "Python 3",
   "language": "python",
   "name": "python3"
  },
  "language_info": {
   "codemirror_mode": {
    "name": "ipython",
    "version": 3
   },
   "file_extension": ".py",
   "mimetype": "text/x-python",
   "name": "python",
   "nbconvert_exporter": "python",
   "pygments_lexer": "ipython3",
   "version": "3.7.6"
  }
 },
 "nbformat": 4,
 "nbformat_minor": 4
}
