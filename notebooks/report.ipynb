{
 "cells": [
  {
   "cell_type": "markdown",
   "metadata": {},
   "source": [
    "# Method / Terminology"
   ]
  },
  {
   "cell_type": "markdown",
   "metadata": {},
   "source": [
    "### Hashtags Polarity:"
   ]
  },
  {
   "cell_type": "markdown",
   "metadata": {},
   "source": [
    "Then, we are going to determine the hashtags polarities. First, we will determine the top 200 hashtags by occurrence in the dataset, and then for each of these 200 hashtags, we would like to calculate the “baseline rate of occurrence” as b, which is calculated by dividing the occurrence times of the hashtag by the total number of tweets in the whole dataset. Second, we will determine three “marker hashtags” which are correlated with the conspiracy or misinformation. Next, we will create a subset that only keeps tweets that contain at least one of these three marker hashtags, and then calculate the “marker rate of occurrence” as m: the number of occurrences divided by the total number of tweets in the subset. Finally, we will use the formula (m-b)/b to calculate the polarity of each of the top 200 hashtags. "
   ]
  },
  {
   "cell_type": "markdown",
   "metadata": {},
   "source": [
    "### User Polarity:"
   ]
  },
  {
   "cell_type": "markdown",
   "metadata": {},
   "source": [
    "Now, we are going to determine the users’ polarities. First, we will go through all hashtags appearing in their tweets/retweets and we only focus on hashtags that have hashtag polarity we calculated above. After finding all hashtags with polarity, we will add all polarities together, which is the user polarity. Last, we will calculate the normalized user polarity by dividing the user polarity by the number of tweets that contain one of the top 200 hashtags. By using this computation procedure, we will be able to measure a user’s tendency and adoption of the misinformation: as the higher value of user polarity, the higher the chance that a user is influenced by the false information posted on Twitter."
   ]
  },
  {
   "cell_type": "markdown",
   "metadata": {},
   "source": [
    "### Echo Chamber:"
   ]
  },
  {
   "cell_type": "markdown",
   "metadata": {},
   "source": [
    "Last, we will measure echo chambers. First, we will pick two tweets that are popular in the whole dataset, one of the two tweets is related to conspiracy and the other one is related to scientific information. For each of these two tweets, we will calculate the normalized user polarities of users who retweeted it, and we will plot a histogram to see the distribution of polarities."
   ]
  },
  {
   "cell_type": "markdown",
   "metadata": {},
   "source": [
    "# Result and Analysis"
   ]
  },
  {
   "cell_type": "markdown",
   "metadata": {},
   "source": [
    "Based on the EDA results given, we then further determine three marker hashtags “ccpvirus”, “trumpvirus” and “wuhan” that are associated with misinformation. Each of them has a comparatively large value of hashtag polarity as around 990 compared to other popular hashtags found in the dataset. After calculating these hashtag polarities and user polarities for a subsampled set of users (around 100 users in each group) who have retweeted the two preselected tweets (conspiracy and scientific information) and removing some extreme outliers (determined by the interquartile ranges of data), we obtained the following plots to describe the distribution of user polarities in each group of users. As shown in the below figure, the shape of the distribution for the misinformation tweet is right-skewed which implies that there are several users in this group having a relatively large value of the user polarity compared to others. In contrast, the shape of the distribution of the factual information is more normally distributed which indicates that these users would share a more similar information consumption pattern in terms of hashtags included in their tweets or retweets. In addition, we noticed that the former group has a higher average user polarity of 32.95 compared to 6.31 as the mean of the latter group. These two groups of users respectively form an isolated and polarized community and each group can represent a homogenous cluster of users as an echo chamber as defined in the above section. These findings confirmed our hypothesis that the users who retweeted the conspiracy information would have a general higher user polarity, which indicates that users in the conspiracy group are more likely to adopt misinformation and conspiracy theories."
   ]
  },
  {
   "cell_type": "markdown",
   "metadata": {},
   "source": [
    "The hashtags and their hashtag polarities:"
   ]
  },
  {
   "cell_type": "code",
   "execution_count": null,
   "metadata": {},
   "outputs": [],
   "source": [
    "import pandas as pd\n",
    "pd.read_csv('../data/report/hashtag_polarity.csv', header=None)"
   ]
  },
  {
   "cell_type": "markdown",
   "metadata": {},
   "source": [
    "The Histogram of the User Polarities in the Conspiracy Group:"
   ]
  },
  {
   "cell_type": "markdown",
   "metadata": {},
   "source": [
    "![cons_user_polarity.png](../data/report/cons_user_polarity.png)"
   ]
  },
  {
   "cell_type": "markdown",
   "metadata": {},
   "source": [
    "The Histogram of the User Polarities in the Factual Information Group:"
   ]
  },
  {
   "cell_type": "markdown",
   "metadata": {},
   "source": [
    "![sci_user_polarity.png](../data/report/sci_user_polarity.png)"
   ]
  }
 ],
 "metadata": {
  "kernelspec": {
   "display_name": "Python 3",
   "language": "python",
   "name": "python3"
  },
  "language_info": {
   "codemirror_mode": {
    "name": "ipython",
    "version": 3
   },
   "file_extension": ".py",
   "mimetype": "text/x-python",
   "name": "python",
   "nbconvert_exporter": "python",
   "pygments_lexer": "ipython3",
   "version": "3.7.6"
  }
 },
 "nbformat": 4,
 "nbformat_minor": 4
}
